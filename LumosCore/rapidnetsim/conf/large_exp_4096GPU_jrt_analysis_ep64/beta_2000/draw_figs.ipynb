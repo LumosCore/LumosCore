{
 "cells": [
  {
   "cell_type": "code",
   "execution_count": 1,
   "metadata": {},
   "outputs": [],
   "source": [
    "import numpy as np\n",
    "import matplotlib.pyplot as plt\n",
    "import seaborn as sns\n",
    "import pandas as pd\n",
    "import time\n",
    "import matplotlib.ticker as mtick\n",
    "from matplotlib.ticker import ScalarFormatter"
   ]
  },
  {
   "cell_type": "code",
   "execution_count": 79,
   "metadata": {},
   "outputs": [],
   "source": [
    "def date_time_str_to_long(input_date_time_string):\n",
    "    if input_date_time_string == 'None':\n",
    "        return 0\n",
    "    time_array = time.strptime(input_date_time_string, \"%Y-%m-%d %H:%M:%S\")\n",
    "    time_stamp = int(time.mktime(time_array))\n",
    "    return time_stamp\n",
    "\n",
    "\n",
    "def load_csv_get_beta(filepath):\n",
    "    df = pd.read_csv(filepath, header=None)\n",
    "    df.columns = ['taskidname', 'taskid', 'type', 'value']\n",
    "    return df\n",
    "\n",
    "\n",
    "def get_running_time(df_data, task_num):\n",
    "    res_list = []\n",
    "    for i in range(task_num):\n",
    "        start_time = df_data.loc[(df_data['taskid'] == i) & (df_data['type'] == 'start_time')]['value'].values[0]\n",
    "        finish_time = df_data.loc[(df_data['taskid'] == i) & (df_data['type'] == 'finish_time')]['value'].values[0]\n",
    "        res_list.append(finish_time - start_time)\n",
    "\n",
    "    return res_list\n",
    "\n",
    "\n",
    "def get_completion_time(df_data, task_num):\n",
    "    res_list = []\n",
    "    for i in range(task_num):\n",
    "        arriving_time = df_data.loc[(df_data['taskid'] == i) & (df_data['type'] == 'arriving_time')]['value'].values[0]\n",
    "        finish_time = df_data.loc[(df_data['taskid'] == i) & (df_data['type'] == 'finish_time')]['value'].values[0]\n",
    "        res_list.append(finish_time - arriving_time)\n",
    "\n",
    "    return res_list\n",
    "\n",
    "\n",
    "def get_wait_time(df_data, task_num):\n",
    "    res_list = []\n",
    "    for i in range(task_num):\n",
    "        arriving_time = df_data.loc[(df_data['taskid'] == i) & (df_data['type'] == 'arriving_time')]['value'].values[0]\n",
    "        start_time = df_data.loc[(df_data['taskid'] == i) & (df_data['type'] == 'start_time')]['value'].values[0]\n",
    "        res_list.append(start_time - arriving_time)\n",
    "\n",
    "    return res_list\n",
    "\n",
    "def get_comm_ratio(arch_name):\n",
    "    df = pd.read_csv(f'{arch_name}/task_comm_ratio.txt', header=None)\n",
    "    df.columns = ['taskid', 'exp', 'actual', 'ratio']\n",
    "    df.sort_values(by='taskid', inplace=True)\n",
    "    df['ratio'] = df['ratio'].apply(lambda x: 1.0 if -1e-3 < x - 1 < 1e-3 else x)\n",
    "    return df['ratio'].values.tolist()"
   ]
  },
  {
   "cell_type": "code",
   "execution_count": 3,
   "metadata": {},
   "outputs": [],
   "source": [
    "# 定义数据\n",
    "num_tasks = 1000\n",
    "task_nums = num_tasks\n",
    "best = load_csv_get_beta(f'best/task_time.log')\n",
    "lumoscore_2tau = load_csv_get_beta(f'lumoscore_tau_2/task_time.log')\n",
    "lumoscore_1tau = load_csv_get_beta(f'lumoscore_tau_1/task_time.log')\n",
    "lumoscore_25_6t = load_csv_get_beta(f'lumoscore_tau_1_26T/task_time.log')\n",
    "clos = load_csv_get_beta(f'ele/task_time.log')\n",
    "clos_4tier_25_6t = load_csv_get_beta(f'ele_4tier/task_time.log')\n",
    "clos_3tier_25_6t = load_csv_get_beta(f'ele_26T/task_time.log')"
   ]
  },
  {
   "cell_type": "code",
   "execution_count": 4,
   "metadata": {},
   "outputs": [],
   "source": [
    "# Colors and line styles for each architecture\n",
    "colors = [(169/255, 111/255, 176/255), \n",
    "          (216/255, 160/255, 199/255), \n",
    "          (247/255, 167/255, 181/255), \n",
    "          (43/255, 48/255, 122/255), \n",
    "          (119/255, 194/255, 243/255), \n",
    "          (218/255, 226/255, 237/255)]\n",
    "line_styles = ['-', '--', '-.', ':', '--', '-.']"
   ]
  },
  {
   "cell_type": "code",
   "execution_count": 5,
   "metadata": {},
   "outputs": [],
   "source": [
    "architectures = {\n",
    "    'LumosCore(2-$\\\\tau$)': lumoscore_2tau,\n",
    "    'LumosCore(1-$\\\\tau$)': lumoscore_1tau,\n",
    "    'LumosCore(25.6T)': lumoscore_25_6t,\n",
    "    'Clos(51.2T)': clos,\n",
    "    'Clos(4-tier,25.6T)': clos_4tier_25_6t,\n",
    "    'Clos(3-tier,25.6T)': clos_3tier_25_6t,\n",
    "}"
   ]
  },
  {
   "cell_type": "markdown",
   "metadata": {},
   "source": [
    "## JRT"
   ]
  },
  {
   "cell_type": "code",
   "execution_count": 26,
   "metadata": {},
   "outputs": [],
   "source": [
    "jrt_data = {k: get_running_time(v, task_nums) for k, v in architectures.items()}\n",
    "best_jrt = np.array(get_running_time(best, task_nums))"
   ]
  },
  {
   "cell_type": "code",
   "execution_count": 37,
   "metadata": {},
   "outputs": [
    {
     "data": {
      "image/png": "[encoded data removed]",
      "text/plain": [
       "<Figure size 300x150 with 1 Axes>"
      ]
     },
     "metadata": {},
     "output_type": "display_data"
    }
   ],
   "source": [
    "# Calculate drag factor for each architecture\n",
    "drag_factors = {}\n",
    "for key, jrt in jrt_data.items():\n",
    "    drag_factor = jrt / best_jrt - 1\n",
    "    drag_factors[key] = drag_factor * 100\n",
    "\n",
    "# Create CDF plot\n",
    "fig, ax = plt.subplots(figsize=(3, 1.5))\n",
    "for i, (key, value) in enumerate(drag_factors.items()):\n",
    "    sorted_data = np.sort(value)\n",
    "    cdf = np.arange(1, len(sorted_data)+1) / len(sorted_data)\n",
    "    plt.plot(sorted_data, cdf, color=colors[i], linestyle=line_styles[i], linewidth=2.5)\n",
    "\n",
    "# 设置横坐标为百分比格式\n",
    "fmt = '%.0f%%' # 格式化为整数百分比\n",
    "xticks = mtick.FormatStrFormatter(fmt)\n",
    "ax.xaxis.set_major_formatter(xticks)\n",
    "# ax.set_xscale('log')\n",
    "plt.ylim(bottom=0.8, top=1.02)  # Set y-axis to start from 0.5\n",
    "plt.xlabel('Slow Down of JRT', fontsize=15)  # Add x-axis label with font size\n",
    "plt.yticks([0.8, 0.9, 1.0], fontsize=15)  # Set y-ticks and font size\n",
    "plt.xticks([0, 30, 60, 90], fontsize=15)  # Set x-ticks font size\n",
    "plt.grid(True, which='both', linestyle='--', linewidth=0.5)  # Add grid lines\n",
    "\n",
    "# Save the CDF plot to a PDF file\n",
    "plt.savefig('cdf_of_jrt.pdf', bbox_inches='tight')\n",
    "plt.show()\n",
    "plt.close()"
   ]
  },
  {
   "cell_type": "markdown",
   "metadata": {},
   "source": [
    "## legend"
   ]
  },
  {
   "cell_type": "code",
   "execution_count": 18,
   "metadata": {},
   "outputs": [
    {
     "data": {
      "image/png": "[encoded data removed]",
      "text/plain": [
       "<Figure size 400x100 with 1 Axes>"
      ]
     },
     "metadata": {},
     "output_type": "display_data"
    }
   ],
   "source": [
    "# Create legend plot\n",
    "fig, ax = plt.subplots(figsize=(4, 1))\n",
    "for i, key in enumerate(jrt_data.keys()):\n",
    "    ax.plot([], [], color=colors[i], linestyle=line_styles[i], label=key, linewidth=2.5)\n",
    "\n",
    "plt.legend(ncol=3, loc='center', fontsize=10, frameon=False)\n",
    "ax.axis('off')  # Turn off axis\n",
    "\n",
    "# Save the legend plot to a PDF file\n",
    "plt.savefig('jrt_jwt_legend.pdf', bbox_inches='tight', pad_inches=0.01)\n",
    "plt.show()\n",
    "plt.close()"
   ]
  },
  {
   "cell_type": "markdown",
   "metadata": {},
   "source": [
    "## JWT"
   ]
  },
  {
   "cell_type": "code",
   "execution_count": 19,
   "metadata": {},
   "outputs": [],
   "source": [
    "jwt_data = {k: get_wait_time(v, task_nums) for k, v in architectures.items()}\n",
    "best_jwt = np.array(get_wait_time(best, task_nums))"
   ]
  },
  {
   "cell_type": "code",
   "execution_count": 104,
   "metadata": {},
   "outputs": [
    {
     "data": {
      "image/png": "[encoded data removed]",
      "text/plain": [
       "<Figure size 300x150 with 1 Axes>"
      ]
     },
     "metadata": {},
     "output_type": "display_data"
    }
   ],
   "source": [
    "drag_factors = {}\n",
    "for key, jwt in jwt_data.items():\n",
    "    drag_factor = jwt - best_jwt\n",
    "    drag_factors[key] = drag_factor\n",
    "\n",
    "fig, ax = plt.subplots(figsize=(3, 1.5))\n",
    "for i, (key, value) in enumerate(drag_factors.items()):\n",
    "    sorted_data = np.sort(value)\n",
    "    cdf = np.arange(1, len(sorted_data)+1) / len(sorted_data)\n",
    "    plt.plot(sorted_data, cdf, color=colors[i], linestyle=line_styles[i], linewidth=2.5)\n",
    "\n",
    "# 设置横坐标为科学计数格式\n",
    "formatter = ScalarFormatter(useMathText=True)\n",
    "formatter.set_scientific(True)\n",
    "formatter.set_powerlimits((-2, 2))\n",
    "ax.xaxis.set_major_formatter(formatter)\n",
    "\n",
    "# ax.ticklabel_format(style='sci', scilimits=(-1,50), axis='x')\n",
    "plt.ylim(bottom=0.6, top=1.02)  # Set y-axis to start from 0.5\n",
    "plt.xlabel('Slow Down of JWT(s)       ', fontsize=15, loc='right')  # Add x-axis label with font size\n",
    "plt.xticks(fontsize=15)  # Set x-ticks and font size\n",
    "plt.yticks([0.6, 0.7, 0.8, 0.9, 1.0], fontsize=15)  # Set y-ticks and font size\n",
    "plt.grid(True, which='both', linestyle='--', linewidth=0.5)  # Add grid lines\n",
    "\n",
    "# Save the CDF plot to a PDF file\n",
    "plt.savefig('cdf_of_jwt.pdf', bbox_inches='tight', pad_inches=0.01)\n",
    "plt.show()\n",
    "plt.close()"
   ]
  },
  {
   "cell_type": "markdown",
   "metadata": {},
   "source": [
    "## JCT"
   ]
  },
  {
   "cell_type": "code",
   "execution_count": null,
   "metadata": {},
   "outputs": [],
   "source": [
    "data = {\n",
    "    '2k': [\n",
    "        get_completion_time(lumoscore_2tau, task_nums),  # LumosCore(51.2T,2-$\\tau$)\n",
    "        get_completion_time(lumoscore_1tau, task_nums),  # LumosCore(51.2T,1-$\\tau$)\n",
    "        get_completion_time(lumoscore_25_6t, task_nums),  # LumosCore(25.6T,1-$\\tau$)\n",
    "        get_completion_time(clos, task_nums),  # Clos(51.2T,3Tier)\n",
    "        get_completion_time(clos_4tier_25_6t, task_nums),  # Clos(25.6T,4Tier)\n",
    "        get_completion_time(clos_3tier_25_6t, task_nums)   # Clos(25.6T,3Tier)\n",
    "    ],\n",
    "    '4k': [\n",
    "        get_completion_time(lumoscore_2tau, task_nums),  # LumosCore(51.2T,2-$\\tau$)\n",
    "        get_completion_time(lumoscore_1tau, task_nums),  # LumosCore(51.2T,1-$\\tau$)\n",
    "        get_completion_time(lumoscore_25_6t, task_nums),  # LumosCore(25.6T,1-$\\tau$)\n",
    "        get_completion_time(clos, task_nums),  # Clos(51.2T,3Tier)\n",
    "        get_completion_time(clos_4tier_25_6t, task_nums),  # Clos(25.6T,4Tier)\n",
    "        get_completion_time(clos_3tier_25_6t, task_nums)   # Clos(25.6T,3Tier)\n",
    "    ],\n",
    "    '8k': [\n",
    "        get_completion_time(lumoscore_2tau, task_nums),  # LumosCore(51.2T,2-$\\tau$)\n",
    "        get_completion_time(lumoscore_1tau, task_nums),  # LumosCore(51.2T,1-$\\tau$)\n",
    "        get_completion_time(lumoscore_25_6t, task_nums),  # LumosCore(25.6T,1-$\\tau$)\n",
    "        get_completion_time(clos, task_nums),  # Clos(51.2T,3Tier)\n",
    "        get_completion_time(clos_4tier_25_6t, task_nums),  # Clos(25.6T,4Tier)\n",
    "        get_completion_time(clos_3tier_25_6t, task_nums)   # Clos(25.6T,3Tier)\n",
    "    ],\n",
    "    '16k': [\n",
    "        get_completion_time(lumoscore_2tau, task_nums),  # LumosCore(51.2T,2-$\\tau$)\n",
    "        get_completion_time(lumoscore_1tau, task_nums),  # LumosCore(51.2T,1-$\\tau$)\n",
    "        get_completion_time(lumoscore_25_6t, task_nums),  # LumosCore(25.6T,1-$\\tau$)\n",
    "        get_completion_time(clos, task_nums),  # Clos(51.2T,3Tier)\n",
    "        get_completion_time(clos_4tier_25_6t, task_nums),  # Clos(25.6T,4Tier)\n",
    "        get_completion_time(clos_3tier_25_6t, task_nums)   # Clos(25.6T,3Tier)\n",
    "    ]\n",
    "}"
   ]
  },
  {
   "cell_type": "code",
   "execution_count": 52,
   "metadata": {},
   "outputs": [],
   "source": [
    "# 计算平均值\n",
    "mean_data = {\n",
    "    'Scale': [],\n",
    "    'Architecture': [],\n",
    "    'Mean_JCT': []\n",
    "}\n",
    "\n",
    "scales = ['2k', '4k', '8k', '16k']\n",
    "\n",
    "for i, scale in enumerate(scales):\n",
    "    for j, arch in enumerate(architectures):\n",
    "        mean_jct = np.mean(data[scale][j])\n",
    "        mean_data['Scale'].append(scale)\n",
    "        mean_data['Architecture'].append(arch)\n",
    "        mean_data['Mean_JCT'].append(mean_jct)\n",
    "\n",
    "df_mean = pd.DataFrame(mean_data)"
   ]
  },
  {
   "cell_type": "code",
   "execution_count": 87,
   "metadata": {},
   "outputs": [
    {
     "data": {
      "image/png": "[encoded data removed]",
      "text/plain": [
       "<Figure size 300x150 with 1 Axes>"
      ]
     },
     "metadata": {},
     "output_type": "display_data"
    }
   ],
   "source": [
    "# 绘制条形图\n",
    "plt.figure(figsize=(3, 1.5))\n",
    "barplot = sns.barplot(x='Scale', y='Mean_JCT', hue='Architecture', data=df_mean, palette=colors, errorbar=None)\n",
    "\n",
    "# 为每个条形添加边框以增加对比度\n",
    "for bar in barplot.patches:\n",
    "    bar.set_edgecolor('black')  # 设置边框颜色为黑色\n",
    "    bar.set_linewidth(1.5)       # 设置边框宽度\n",
    "\n",
    "formatter = ScalarFormatter(useMathText=True)\n",
    "formatter.set_scientific(True)\n",
    "formatter.set_powerlimits((-2, 2))\n",
    "barplot.yaxis.set_major_formatter(formatter)\n",
    "\n",
    "# 添加网格线\n",
    "plt.grid(axis='y', linestyle='--', alpha=0.7)\n",
    "\n",
    "# 设置 X 轴、Y 轴标签和标题\n",
    "plt.xlabel('Cluster Scale', fontsize=15)\n",
    "plt.ylabel('Avg. JCT(s)', fontsize=15)\n",
    "plt.xticks(fontsize=15)\n",
    "plt.yticks(fontsize=15)\n",
    "\n",
    "# 移除图例\n",
    "handles, labels = plt.gca().get_legend_handles_labels()\n",
    "plt.legend([], [], frameon=False)\n",
    "plt.ylim((30000,50000))\n",
    "# 保存直方图为 diff_jct.pdf\n",
    "plt.savefig('diff_jct.pdf', bbox_inches='tight')\n",
    "plt.show()\n",
    "plt.close()"
   ]
  },
  {
   "cell_type": "markdown",
   "metadata": {},
   "source": [
    "## Ratio"
   ]
  },
  {
   "cell_type": "code",
   "execution_count": 83,
   "metadata": {},
   "outputs": [],
   "source": [
    "comm_ratio = {k:get_comm_ratio(k) for k in \n",
    "              ['best', 'lumoscore_tau_1', 'lumoscore_tau_2', 'lumoscore_tau_1_26T', 'ele', 'ele_26T', 'ele_4tier']}"
   ]
  },
  {
   "cell_type": "code",
   "execution_count": null,
   "metadata": {},
   "outputs": [],
   "source": [
    "# Draw the comm_ratio figure\n",
    "comm_ratio = {k:get_comm_ratio(k) for k in \n",
    "              ['best', 'lumoscore_tau_1', 'lumoscore_tau_2', 'lumoscore_tau_1_26T', 'ele', 'ele_26T', 'ele_4tier']}\n",
    "df = pd.DataFrame(comm_ratio)\n",
    "\n",
    "# Draw the percentage stack figure\n",
    "fig, ax1 = plt.subplots(figsize=(3, 1.5))\n",
    "#f.subplots_adjust(wspace=0.15)\n",
    "sns.despine(fig)\n",
    "\n",
    "ax1.set_xlabel(\"Percentage\")\n",
    "ax1.set_ylabel(\"Architecture\")\n",
    "\n",
    "# Draw stacked bar chart\n",
    "df.plot.barh(stacked=True, ax=ax1, width=0.8, cmap=hotmap,  #edgecolor='black', linewidth=0.5)\n",
    "             edgecolor=\"black\", linewidth=0.5\n",
    "             )\n",
    "\n",
    "ax1.xaxis.set_major_formatter(mtick.PercentFormatter(1))\n",
    "\n",
    "ax1.set_xlim(-0.001, 0.35)\n",
    "ax1.legend(ncol=2, **centering_legend(fig, extra_dispense=0.05))\n",
    "\n",
    "# Disable ax2 legend\n",
    "# Disable the spines and the grid\n",
    "ax1.grid(False)\n",
    "ax1.spines['left'].set_visible(False)\n",
    "setup_borders(ax1, bottom=True)\n",
    "set_grid(ax1, position=\"x\", minor=True, major=True)\n",
    "save_figure(fig, \"ecmp_contention\")"
   ]
  },
  {
   "cell_type": "code",
   "execution_count": 86,
   "metadata": {},
   "outputs": [
    {
     "data": {
      "text/plain": [
       "count    1000.000000\n",
       "mean        1.029127\n",
       "std         0.073968\n",
       "min         1.000000\n",
       "25%         1.000000\n",
       "50%         1.000000\n",
       "75%         1.016276\n",
       "max         1.343629\n",
       "Name: best, dtype: float64"
      ]
     },
     "execution_count": 86,
     "metadata": {},
     "output_type": "execute_result"
    }
   ],
   "source": [
    "comm_ratio = pd.DataFrame(comm_ratio)\n",
    "comm_ratio['best'].describe()"
   ]
  },
  {
   "cell_type": "code",
   "execution_count": null,
   "metadata": {},
   "outputs": [],
   "source": []
  }
 ],
 "metadata": {
  "kernelspec": {
   "display_name": "rapidnetsim",
   "language": "python",
   "name": "python3"
  },
  "language_info": {
   "codemirror_mode": {
    "name": "ipython",
    "version": 3
   },
   "file_extension": ".py",
   "mimetype": "text/x-python",
   "name": "python",
   "nbconvert_exporter": "python",
   "pygments_lexer": "ipython3",
   "version": "3.10.15"
  }
 },
 "nbformat": 4,
 "nbformat_minor": 2
}
